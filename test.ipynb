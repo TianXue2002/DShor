{
 "cells": [
  {
   "cell_type": "code",
   "execution_count": 15,
   "id": "bc0f4dfe",
   "metadata": {},
   "outputs": [],
   "source": [
    "from qiskit import QuantumCircuit\n",
    "from qiskit.quantum_info import Operator\n",
    "import numpy as np"
   ]
  },
  {
   "cell_type": "code",
   "execution_count": 16,
   "id": "02d6dba3",
   "metadata": {},
   "outputs": [
    {
     "name": "stdout",
     "output_type": "stream",
     "text": [
      "                              \n",
      "q_0: ────────────■────────────\n",
      "     ┌───┐┌───┐┌─┴─┐┌───┐┌───┐\n",
      "q_1: ┤ X ├┤ H ├┤ X ├┤ H ├┤ X ├\n",
      "     └─┬─┘└───┘└───┘└───┘└─┬─┘\n",
      "q_2: ──■───────────────────■──\n",
      "                              \n"
     ]
    }
   ],
   "source": [
    "qc_ref = QuantumCircuit(3)\n",
    "qc_ref.cx(2,1)\n",
    "qc_ref.h(1)\n",
    "qc_ref.cx(0,1)\n",
    "qc_ref.h(1)\n",
    "qc_ref.cx(2,1)\n",
    "print(qc_ref)\n",
    "mref = np.array((Operator(qc_ref).data))"
   ]
  },
  {
   "cell_type": "code",
   "execution_count": 20,
   "id": "c18e8008",
   "metadata": {},
   "outputs": [
    {
     "name": "stdout",
     "output_type": "stream",
     "text": [
      "                         \n",
      "q_0: ───────■────■───────\n",
      "     ┌───┐┌─┴─┐  │  ┌───┐\n",
      "q_1: ┤ H ├┤ X ├──┼──┤ H ├\n",
      "     ├───┤└───┘┌─┴─┐├───┤\n",
      "q_2: ┤ H ├─────┤ X ├┤ H ├\n",
      "     └───┘     └───┘└───┘\n"
     ]
    }
   ],
   "source": [
    "qc = QuantumCircuit(3)\n",
    "qc.h(1)\n",
    "qc.h(2)\n",
    "qc.cx(0,1)\n",
    "qc.cx(0,2)\n",
    "qc.h(1)\n",
    "qc.h(2)\n",
    "print(qc)\n",
    "m = np.array((Operator(qc).data))"
   ]
  },
  {
   "cell_type": "code",
   "execution_count": 21,
   "id": "e31c99fc",
   "metadata": {},
   "outputs": [
    {
     "name": "stdout",
     "output_type": "stream",
     "text": [
      "8.881784197001252e-16\n"
     ]
    }
   ],
   "source": [
    "print(np.sum(abs(m-mref)))"
   ]
  }
 ],
 "metadata": {
  "kernelspec": {
   "display_name": ".conda",
   "language": "python",
   "name": "python3"
  },
  "language_info": {
   "codemirror_mode": {
    "name": "ipython",
    "version": 3
   },
   "file_extension": ".py",
   "mimetype": "text/x-python",
   "name": "python",
   "nbconvert_exporter": "python",
   "pygments_lexer": "ipython3",
   "version": "3.11.13"
  }
 },
 "nbformat": 4,
 "nbformat_minor": 5
}
