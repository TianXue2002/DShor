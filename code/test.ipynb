{
 "cells": [
  {
   "cell_type": "code",
   "execution_count": 13,
   "id": "6b77fa00",
   "metadata": {},
   "outputs": [],
   "source": [
    "import importlib\n",
    "\n",
    "import Qint\n",
    "import Bint\n",
    "import numpy as np\n",
    "import Qcontrol\n",
    "import preparation\n",
    "from functools import partial\n",
    "import matplotlib.pyplot as plt\n",
    "\n",
    "importlib.reload(Bint)\n",
    "importlib.reload(Qint)\n",
    "importlib.reload(Qcontrol)\n",
    "importlib.reload(preparation)\n",
    "\n",
    "\n",
    "from Bint import BinaryInt\n",
    "from Qint import *\n",
    "from Qcontrol import *\n",
    "from preparation import *"
   ]
  },
  {
   "cell_type": "code",
   "execution_count": 14,
   "id": "783c3252",
   "metadata": {},
   "outputs": [
    {
     "name": "stdout",
     "output_type": "stream",
     "text": [
      "0.4472135954999579j → 00000001\n",
      "0.4472135954999579j → 00000010\n",
      "0.4472135954999579j → 00000011\n",
      "0.4472135954999579j → 00000100\n",
      "0j → 00000101\n",
      "\n"
     ]
    }
   ],
   "source": [
    "lst = [1,2,3,4,5]\n",
    "length = 8\n",
    "module = 20\n",
    "amps = np.zeros(2**length, dtype=np.complex128)\n",
    "amps[:len(lst)] = np.repeat(1/np.sqrt(len(lst))*1j, len(lst))\n",
    "\n",
    "qint = Qint(lst, amps, module, length)\n",
    "print(qint)"
   ]
  },
  {
   "cell_type": "code",
   "execution_count": 15,
   "id": "e02f6f0e",
   "metadata": {},
   "outputs": [
    {
     "name": "stdout",
     "output_type": "stream",
     "text": [
      "0000000101\n",
      "0001100100\n"
     ]
    }
   ],
   "source": [
    "module = 100\n",
    "length = 10\n",
    "a = BinaryInt(5, length)\n",
    "print(a)\n",
    "b = BinaryInt(95, length)\n",
    "c = a+b\n",
    "print(c)"
   ]
  },
  {
   "cell_type": "code",
   "execution_count": 16,
   "id": "a2eab174",
   "metadata": {},
   "outputs": [
    {
     "name": "stdout",
     "output_type": "stream",
     "text": [
      "0.4472135954999579j → 00000001\n",
      "0.4472135954999579j → 00000010\n",
      "0.4472135954999579j → 00000011\n",
      "0.4472135954999579j → 00000100\n",
      "0j → 00000101\n",
      "\n",
      "==\n",
      "0.4472135954999579j → 00000010\n",
      "0.4472135954999579j → 00000011\n",
      "0.4472135954999579j → 00000100\n",
      "0j → 00000101\n",
      "0j → 00000110\n",
      "\n"
     ]
    }
   ],
   "source": [
    "qc = 1\n",
    "lst = [1,2,3,4,5]\n",
    "length = 8\n",
    "module = 20\n",
    "amps = np.zeros(2**length, dtype=np.complex128)\n",
    "amps[:len(lst)] = np.repeat(1/np.sqrt(len(lst))*1j, len(lst))\n",
    "\n",
    "qt = Qint(lst, amps, module, length)\n",
    "offset = 1\n",
    "\n",
    "print(qt)\n",
    "print(\"==\")\n",
    "qr = controlled_by(qc, qt, offset, BinaryInt.__add__)\n",
    "print(qr)"
   ]
  },
  {
   "cell_type": "code",
   "execution_count": 17,
   "id": "b6870bd8",
   "metadata": {},
   "outputs": [
    {
     "name": "stdout",
     "output_type": "stream",
     "text": [
      "0.5773502691896258j → 00000001\n",
      "0.5773502691896258j → 00000011\n",
      "0.5773502691896258j → 00000101\n",
      "\n",
      "==\n",
      "0.408248290463863j → 0|00000001\n",
      "0.408248290463863j → 0|00000011\n",
      "0.408248290463863j → 0|00000101\n",
      "0.408248290463863j → 1|00000011\n",
      "0.408248290463863j → 1|00000101\n",
      "0.408248290463863j → 1|00000111\n",
      "\n"
     ]
    }
   ],
   "source": [
    "qc = Qcontrol.qalloc(1, \"X\")\n",
    "lst = [1,3,5]\n",
    "length = 8\n",
    "module = 50\n",
    "amps = np.zeros(2**length, dtype=np.complex128)\n",
    "amps[lst] = np.repeat(1/np.sqrt(len(lst))*1j, len(lst))\n",
    "\n",
    "qt = Qint(lst, amps, module, length)\n",
    "offset = [0, 2]\n",
    "\n",
    "print(qt)\n",
    "print(\"==\")\n",
    "qr = controlled_by(qc, qt, offset, partial(Bint.modular_add, N = qt.module))\n",
    "print(qr)"
   ]
  },
  {
   "cell_type": "code",
   "execution_count": 18,
   "id": "457ae34b",
   "metadata": {},
   "outputs": [
    {
     "name": "stdout",
     "output_type": "stream",
     "text": [
      "00010101\n",
      "00010\n"
     ]
    }
   ],
   "source": [
    "a = Cvalue(21, 8)\n",
    "print(a)\n",
    "b = a.pop([0,1,2])\n",
    "print(b.binary)\n"
   ]
  },
  {
   "cell_type": "code",
   "execution_count": 19,
   "id": "0dbcf41f",
   "metadata": {},
   "outputs": [
    {
     "name": "stdout",
     "output_type": "stream",
     "text": [
      "110\n",
      "-1\n"
     ]
    }
   ],
   "source": [
    "c = a[[1,2,4]]\n",
    "print(c)\n",
    "observables = [0,1,1]\n",
    "print(if_neg(c, observables))"
   ]
  },
  {
   "cell_type": "code",
   "execution_count": null,
   "id": "dcb63150",
   "metadata": {},
   "outputs": [
    {
     "ename": "AttributeError",
     "evalue": "'Qint' object has no attribute 'controlled_add'",
     "output_type": "error",
     "traceback": [
      "\u001b[1;31m---------------------------------------------------------------------------\u001b[0m",
      "\u001b[1;31mAttributeError\u001b[0m                            Traceback (most recent call last)",
      "Cell \u001b[1;32mIn[12], line 7\u001b[0m\n\u001b[0;32m      5\u001b[0m q \u001b[38;5;241m=\u001b[39m Qint(values, amps, module, length)\n\u001b[0;32m      6\u001b[0m offsets \u001b[38;5;241m=\u001b[39m [\u001b[38;5;241m0\u001b[39m, \u001b[38;5;241m1\u001b[39m]\n\u001b[1;32m----> 7\u001b[0m \u001b[43mq\u001b[49m\u001b[38;5;241;43m.\u001b[39;49m\u001b[43mcontrolled_add\u001b[49m([\u001b[38;5;241m0\u001b[39m], offsets)\n",
      "\u001b[1;31mAttributeError\u001b[0m: 'Qint' object has no attribute 'controlled_add'"
     ]
    }
   ],
   "source": [
    "length = 2\n",
    "values = [0, 2]\n",
    "module = 2**length\n",
    "amps = np.array([1/np.sqrt(2), 0, 1/np.sqrt(2), 0])\n",
    "q = Qint(values, amps, module, length)\n",
    "offsets = [0, 1]\n",
    "q.controlled_add([0], offsets)"
   ]
  }
 ],
 "metadata": {
  "kernelspec": {
   "display_name": ".conda",
   "language": "python",
   "name": "python3"
  },
  "language_info": {
   "codemirror_mode": {
    "name": "ipython",
    "version": 3
   },
   "file_extension": ".py",
   "mimetype": "text/x-python",
   "name": "python",
   "nbconvert_exporter": "python",
   "pygments_lexer": "ipython3",
   "version": "3.11.13"
  }
 },
 "nbformat": 4,
 "nbformat_minor": 5
}
