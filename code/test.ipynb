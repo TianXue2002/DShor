{
 "cells": [
  {
   "cell_type": "code",
   "execution_count": 25,
   "id": "6b77fa00",
   "metadata": {},
   "outputs": [],
   "source": [
    "import importlib\n",
    "\n",
    "import Qint\n",
    "import Bint\n",
    "import numpy as np\n",
    "import Qcontrol\n",
    "\n",
    "importlib.reload(Bint)\n",
    "importlib.reload(Qint)\n",
    "importlib.reload(Qcontrol)\n",
    "\n",
    "from Bint import BinaryInt\n",
    "from Qint import *\n",
    "from Qcontrol import *"
   ]
  },
  {
   "cell_type": "code",
   "execution_count": 26,
   "id": "783c3252",
   "metadata": {},
   "outputs": [
    {
     "name": "stdout",
     "output_type": "stream",
     "text": [
      "0.4472135954999579j → 00000001\n",
      "0.4472135954999579j → 00000010\n",
      "0.4472135954999579j → 00000011\n",
      "0.4472135954999579j → 00000100\n",
      "0.4472135954999579j → 00000101\n"
     ]
    }
   ],
   "source": [
    "lst = [1,2,3,4,5]\n",
    "amps = np.repeat(1/np.sqrt(len(lst))*1j, len(lst))\n",
    "length = 8\n",
    "module = 20\n",
    "qint = Qint(lst, amps, module, length)\n",
    "print(qint)"
   ]
  },
  {
   "cell_type": "code",
   "execution_count": 27,
   "id": "e02f6f0e",
   "metadata": {},
   "outputs": [
    {
     "name": "stdout",
     "output_type": "stream",
     "text": [
      "0000000101\n",
      "0000000000\n"
     ]
    }
   ],
   "source": [
    "module = 100\n",
    "length = 10\n",
    "a = BinaryInt(5, module, length)\n",
    "print(a)\n",
    "b = BinaryInt(95, module, length)\n",
    "c = a+b\n",
    "print(c)"
   ]
  },
  {
   "cell_type": "code",
   "execution_count": 28,
   "id": "a2eab174",
   "metadata": {},
   "outputs": [
    {
     "name": "stdout",
     "output_type": "stream",
     "text": [
      "0.4472135954999579j → 00000001\n",
      "0.4472135954999579j → 00000010\n",
      "0.4472135954999579j → 00000011\n",
      "0.4472135954999579j → 00000100\n",
      "0.4472135954999579j → 00000101\n",
      "==\n",
      "0.4472135954999579j → 00000010\n",
      "0.4472135954999579j → 00000011\n",
      "0.4472135954999579j → 00000100\n",
      "0.4472135954999579j → 00000101\n",
      "0.4472135954999579j → 00000110\n"
     ]
    }
   ],
   "source": [
    "qc = 1\n",
    "lst = [1,2,3,4,5]\n",
    "amps = np.repeat(1/np.sqrt(len(lst))*1j, len(lst))\n",
    "length = 8\n",
    "module = 20\n",
    "qt = Qint(lst, amps, module, length)\n",
    "offset = 1\n",
    "\n",
    "print(qt)\n",
    "print(\"==\")\n",
    "qr = controlled_by(qc, qt, offset, BinaryInt.__add__)\n",
    "print(qr)"
   ]
  },
  {
   "cell_type": "code",
   "execution_count": 34,
   "id": "b6870bd8",
   "metadata": {},
   "outputs": [
    {
     "name": "stdout",
     "output_type": "stream",
     "text": [
      "0.5773502691896258j → 00000001\n",
      "0.5773502691896258j → 00000011\n",
      "0.5773502691896258j → 00000101\n",
      "==\n",
      "0.2886751345948129j → 00|00000001\n",
      "0.2886751345948129j → 00|00000011\n",
      "0.2886751345948129j → 00|00000101\n",
      "0.2886751345948129j → 01|00000011\n",
      "0.2886751345948129j → 01|00000101\n",
      "0.2886751345948129j → 01|00000111\n",
      "0.2886751345948129j → 10|00000101\n",
      "0.2886751345948129j → 10|00000111\n",
      "0.2886751345948129j → 10|00001001\n",
      "0.2886751345948129j → 11|00000111\n",
      "0.2886751345948129j → 11|00001001\n",
      "0.2886751345948129j → 11|00001011\n"
     ]
    }
   ],
   "source": [
    "qc = Qcontrol.qalloc(2, \"X\")\n",
    "lst = [1,3,5]\n",
    "amps = np.repeat(1/np.sqrt(len(lst))*1j, len(lst))\n",
    "length = 8\n",
    "module = 20\n",
    "qt = Qint(lst, amps, module, length)\n",
    "offset = [0, 2, 4, 6]\n",
    "\n",
    "print(qt)\n",
    "print(\"==\")\n",
    "qr = controlled_by(qc, qt, offset, BinaryInt.__add__)\n",
    "print(qr)"
   ]
  },
  {
   "cell_type": "code",
   "execution_count": 30,
   "id": "457ae34b",
   "metadata": {},
   "outputs": [
    {
     "name": "stdout",
     "output_type": "stream",
     "text": [
      "011000\n",
      "11000\n"
     ]
    }
   ],
   "source": [
    "b = BinaryInt(12, 100, 5)\n",
    "print(b<<1)\n",
    "c = b+b\n",
    "print(c)"
   ]
  }
 ],
 "metadata": {
  "kernelspec": {
   "display_name": ".conda",
   "language": "python",
   "name": "python3"
  },
  "language_info": {
   "codemirror_mode": {
    "name": "ipython",
    "version": 3
   },
   "file_extension": ".py",
   "mimetype": "text/x-python",
   "name": "python",
   "nbconvert_exporter": "python",
   "pygments_lexer": "ipython3",
   "version": "3.11.13"
  }
 },
 "nbformat": 4,
 "nbformat_minor": 5
}
