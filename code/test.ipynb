{
 "cells": [
  {
   "cell_type": "code",
   "execution_count": 1627,
   "id": "6b77fa00",
   "metadata": {},
   "outputs": [],
   "source": [
    "import importlib\n",
    "\n",
    "import Qint\n",
    "import Bint\n",
    "import numpy as np\n",
    "import Qcontrol\n",
    "from functools import partial\n",
    "\n",
    "\n",
    "importlib.reload(Bint)\n",
    "importlib.reload(Qint)\n",
    "importlib.reload(Qcontrol)\n",
    "\n",
    "from Bint import BinaryInt\n",
    "from Qint import *\n",
    "from Qcontrol import *"
   ]
  },
  {
   "cell_type": "code",
   "execution_count": 1628,
   "id": "783c3252",
   "metadata": {},
   "outputs": [
    {
     "name": "stdout",
     "output_type": "stream",
     "text": [
      "0.4472135954999579j → 00000001\n",
      "0.4472135954999579j → 00000010\n",
      "0.4472135954999579j → 00000011\n",
      "0.4472135954999579j → 00000100\n",
      "0.4472135954999579j → 00000101\n"
     ]
    }
   ],
   "source": [
    "lst = [1,2,3,4,5]\n",
    "amps = np.repeat(1/np.sqrt(len(lst))*1j, len(lst))\n",
    "length = 8\n",
    "module = 20\n",
    "qint = Qint(lst, amps, module, length)\n",
    "print(qint)"
   ]
  },
  {
   "cell_type": "code",
   "execution_count": 1629,
   "id": "e02f6f0e",
   "metadata": {},
   "outputs": [
    {
     "name": "stdout",
     "output_type": "stream",
     "text": [
      "0000000101\n",
      "0001100100\n"
     ]
    }
   ],
   "source": [
    "module = 100\n",
    "length = 10\n",
    "a = BinaryInt(5, length)\n",
    "print(a)\n",
    "b = BinaryInt(95, length)\n",
    "c = a+b\n",
    "print(c)"
   ]
  },
  {
   "cell_type": "code",
   "execution_count": 1630,
   "id": "a2eab174",
   "metadata": {},
   "outputs": [
    {
     "name": "stdout",
     "output_type": "stream",
     "text": [
      "0.4472135954999579j → 00000001\n",
      "0.4472135954999579j → 00000010\n",
      "0.4472135954999579j → 00000011\n",
      "0.4472135954999579j → 00000100\n",
      "0.4472135954999579j → 00000101\n",
      "==\n",
      "0.4472135954999579j → 00000010\n",
      "0.4472135954999579j → 00000011\n",
      "0.4472135954999579j → 00000100\n",
      "0.4472135954999579j → 00000101\n",
      "0.4472135954999579j → 00000110\n"
     ]
    }
   ],
   "source": [
    "qc = 1\n",
    "lst = [1,2,3,4,5]\n",
    "amps = np.repeat(1/np.sqrt(len(lst))*1j, len(lst))\n",
    "length = 8\n",
    "module = 20\n",
    "qt = Qint(lst, amps, module, length)\n",
    "offset = 1\n",
    "\n",
    "print(qt)\n",
    "print(\"==\")\n",
    "qr = controlled_by(qc, qt, offset, BinaryInt.__add__)\n",
    "print(qr)"
   ]
  },
  {
   "cell_type": "code",
   "execution_count": 1631,
   "id": "b6870bd8",
   "metadata": {},
   "outputs": [
    {
     "name": "stdout",
     "output_type": "stream",
     "text": [
      "0.5773502691896258j → 00000001\n",
      "0.5773502691896258j → 00000011\n",
      "0.5773502691896258j → 00000101\n",
      "==\n",
      "0.408248290463863j → 0|00000001\n",
      "0.408248290463863j → 0|00000011\n",
      "0.408248290463863j → 0|00000101\n",
      "0.408248290463863j → 1|00000001\n",
      "0.408248290463863j → 1|00000011\n",
      "0.408248290463863j → 1|00000101\n"
     ]
    }
   ],
   "source": [
    "qc = Qcontrol.qalloc(1, \"X\")\n",
    "lst = [1,3,5]\n",
    "amps = np.repeat(1/np.sqrt(len(lst))*1j, len(lst))\n",
    "length = 8\n",
    "module = 20\n",
    "qt = Qint(lst, amps, module, length)\n",
    "offset = [0, 20]\n",
    "\n",
    "print(qt)\n",
    "print(\"==\")\n",
    "qr = controlled_by(qc, qt, offset, partial(Bint.modular_add, N = qt.module))\n",
    "print(qr)"
   ]
  },
  {
   "cell_type": "code",
   "execution_count": 1632,
   "id": "457ae34b",
   "metadata": {},
   "outputs": [
    {
     "name": "stdout",
     "output_type": "stream",
     "text": [
      "00010101\n",
      "00010\n"
     ]
    }
   ],
   "source": [
    "a = Cvalue(21, 8)\n",
    "print(a)\n",
    "b = a.pop([0,1,2])\n",
    "print(b.binary)\n"
   ]
  },
  {
   "cell_type": "code",
   "execution_count": 1633,
   "id": "0dbcf41f",
   "metadata": {},
   "outputs": [
    {
     "name": "stdout",
     "output_type": "stream",
     "text": [
      "110\n",
      "-1\n"
     ]
    }
   ],
   "source": [
    "c = a[[1,2,4]]\n",
    "print(c)\n",
    "observables = [0,1,1]\n",
    "print(if_neg(c, observables))"
   ]
  },
  {
   "cell_type": "code",
   "execution_count": 1690,
   "id": "4191ff42",
   "metadata": {},
   "outputs": [
    {
     "name": "stdout",
     "output_type": "stream",
     "text": [
      "0.22360679774997896j → 00|000\n",
      "0.22360679774997896j → 00|001\n",
      "0.22360679774997896j → 00|010\n",
      "0.22360679774997896j → 00|011\n",
      "0.22360679774997896j → 00|100\n",
      "0.22360679774997896j → 01|001\n",
      "0.22360679774997896j → 01|010\n",
      "0.22360679774997896j → 01|011\n",
      "0.22360679774997896j → 01|100\n",
      "0.22360679774997896j → 01|101\n",
      "0.22360679774997896j → 10|010\n",
      "0.22360679774997896j → 10|011\n",
      "0.22360679774997896j → 10|100\n",
      "0.22360679774997896j → 10|101\n",
      "0.22360679774997896j → 10|110\n",
      "0.22360679774997896j → 11|011\n",
      "0.22360679774997896j → 11|100\n",
      "0.22360679774997896j → 11|101\n",
      "0.22360679774997896j → 11|110\n",
      "0.22360679774997896j → 11|111\n",
      "[0.75 0.05 0.15 0.05]\n",
      "True\n",
      "11 outcome\n",
      "0.22360679774997902j → 000\n",
      "0.22360679774997902j → 001\n",
      "0.22360679774997902j → 010\n",
      "0.22360679774997902j → 011\n",
      "0.22360679774997902j → 100\n",
      "(-0-0.22360679774997902j) → 001\n",
      "(-0-0.22360679774997902j) → 010\n",
      "(-0-0.22360679774997902j) → 011\n",
      "(-0-0.22360679774997902j) → 100\n",
      "(-0-0.22360679774997902j) → 101\n",
      "(-0-0.22360679774997902j) → 010\n",
      "(-0-0.22360679774997902j) → 011\n",
      "(-0-0.22360679774997902j) → 100\n",
      "(-0-0.22360679774997902j) → 101\n",
      "(-0-0.22360679774997902j) → 110\n",
      "0.22360679774997902j → 011\n",
      "0.22360679774997902j → 100\n",
      "0.22360679774997902j → 101\n",
      "0.22360679774997902j → 110\n",
      "0.22360679774997902j → 111\n"
     ]
    }
   ],
   "source": [
    "qc = Qcontrol.qalloc(2, \"X\")\n",
    "lst = list(range(5))\n",
    "amps = np.repeat(1/np.sqrt(len(lst))*1j, len(lst))\n",
    "length = 3\n",
    "module = 2**3\n",
    "pos_lst = [0,1]\n",
    "\n",
    "qt = Qint(lst, amps, module, length)\n",
    "qt = Qint(lst, amps, module, length)\n",
    "offset = [0, 1, 2, 3]\n",
    "qr = controlled_by(qc, qt, offset, partial(Bint.modular_add, N = qt.module))\n",
    "print(qr)\n",
    "[qm, outcome] = qr.measure_controls(pos_lst, \"X\")\n",
    "print(outcome, \"outcome\")\n",
    "print(qm)"
   ]
  },
  {
   "cell_type": "code",
   "execution_count": 1637,
   "id": "44d6a737",
   "metadata": {},
   "outputs": [
    {
     "name": "stdout",
     "output_type": "stream",
     "text": [
      "110\n",
      "110\n"
     ]
    }
   ],
   "source": [
    "a = Cvalue(6, 3)\n",
    "print(a)\n",
    "print(a[[0,1,2]])\n"
   ]
  },
  {
   "cell_type": "code",
   "execution_count": 1636,
   "id": "dcb63150",
   "metadata": {},
   "outputs": [
    {
     "name": "stdout",
     "output_type": "stream",
     "text": [
      "[0]\n"
     ]
    }
   ],
   "source": [
    "print(list(range(0,-1,-1)))"
   ]
  }
 ],
 "metadata": {
  "kernelspec": {
   "display_name": ".conda",
   "language": "python",
   "name": "python3"
  },
  "language_info": {
   "codemirror_mode": {
    "name": "ipython",
    "version": 3
   },
   "file_extension": ".py",
   "mimetype": "text/x-python",
   "name": "python",
   "nbconvert_exporter": "python",
   "pygments_lexer": "ipython3",
   "version": "3.11.13"
  }
 },
 "nbformat": 4,
 "nbformat_minor": 5
}
