{
 "cells": [
  {
   "cell_type": "code",
   "execution_count": 987,
   "id": "6b77fa00",
   "metadata": {},
   "outputs": [],
   "source": [
    "import importlib\n",
    "\n",
    "import Qint\n",
    "import Bint\n",
    "import numpy as np\n",
    "import Qcontrol\n",
    "import preparation\n",
    "from functools import partial\n",
    "import matplotlib.pyplot as plt\n",
    "\n",
    "importlib.reload(Bint)\n",
    "importlib.reload(Qint)\n",
    "importlib.reload(Qcontrol)\n",
    "importlib.reload(preparation)\n",
    "\n",
    "\n",
    "from Bint import BinaryInt\n",
    "from Qint import *\n",
    "from Qcontrol import *\n",
    "from preparation import *"
   ]
  },
  {
   "cell_type": "code",
   "execution_count": 988,
   "id": "783c3252",
   "metadata": {},
   "outputs": [
    {
     "name": "stdout",
     "output_type": "stream",
     "text": [
      "0.4472135954999579j → 00000001\n",
      "0.4472135954999579j → 00000010\n",
      "0.4472135954999579j → 00000011\n",
      "0.4472135954999579j → 00000100\n",
      "0j → 00000101\n",
      "\n"
     ]
    }
   ],
   "source": [
    "lst = [1,2,3,4,5]\n",
    "length = 8\n",
    "module = 20\n",
    "amps = np.zeros(2**length, dtype=np.complex128)\n",
    "amps[:len(lst)] = np.repeat(1/np.sqrt(len(lst))*1j, len(lst))\n",
    "\n",
    "qint = Qint(lst, amps, module, length)\n",
    "print(qint)"
   ]
  },
  {
   "cell_type": "code",
   "execution_count": 989,
   "id": "e02f6f0e",
   "metadata": {},
   "outputs": [
    {
     "name": "stdout",
     "output_type": "stream",
     "text": [
      "0000000101\n",
      "0001100100\n"
     ]
    }
   ],
   "source": [
    "module = 100\n",
    "length = 10\n",
    "a = BinaryInt(5, length)\n",
    "print(a)\n",
    "b = BinaryInt(95, length)\n",
    "c = a+b\n",
    "print(c)"
   ]
  },
  {
   "cell_type": "code",
   "execution_count": 990,
   "id": "a2eab174",
   "metadata": {},
   "outputs": [
    {
     "name": "stdout",
     "output_type": "stream",
     "text": [
      "0.4472135954999579j → 00000001\n",
      "0.4472135954999579j → 00000010\n",
      "0.4472135954999579j → 00000011\n",
      "0.4472135954999579j → 00000100\n",
      "0j → 00000101\n",
      "\n",
      "==\n",
      "0.4472135954999579j → 00000010\n",
      "0.4472135954999579j → 00000011\n",
      "0.4472135954999579j → 00000100\n",
      "0j → 00000101\n",
      "0j → 00000110\n",
      "\n"
     ]
    }
   ],
   "source": [
    "qc = 1\n",
    "lst = [1,2,3,4,5]\n",
    "length = 8\n",
    "module = 20\n",
    "amps = np.zeros(2**length, dtype=np.complex128)\n",
    "amps[:len(lst)] = np.repeat(1/np.sqrt(len(lst))*1j, len(lst))\n",
    "\n",
    "qt = Qint(lst, amps, module, length)\n",
    "offset = 1\n",
    "\n",
    "print(qt)\n",
    "print(\"==\")\n",
    "qr = controlled_by(qc, qt, offset, BinaryInt.__add__)\n",
    "print(qr)"
   ]
  },
  {
   "cell_type": "code",
   "execution_count": 991,
   "id": "b6870bd8",
   "metadata": {},
   "outputs": [
    {
     "name": "stdout",
     "output_type": "stream",
     "text": [
      "0.5773502691896258j → 00000001\n",
      "0.5773502691896258j → 00000011\n",
      "0.5773502691896258j → 00000101\n",
      "\n",
      "==\n",
      "0.408248290463863j → 0|00000001\n",
      "0.408248290463863j → 0|00000011\n",
      "0.408248290463863j → 0|00000101\n",
      "0.408248290463863j → 1|00000011\n",
      "0.408248290463863j → 1|00000101\n",
      "0.408248290463863j → 1|00000111\n",
      "\n"
     ]
    }
   ],
   "source": [
    "qc = Qcontrol.qalloc(1, \"X\")\n",
    "lst = [1,3,5]\n",
    "length = 8\n",
    "module = 50\n",
    "amps = np.zeros(2**length, dtype=np.complex128)\n",
    "amps[lst] = np.repeat(1/np.sqrt(len(lst))*1j, len(lst))\n",
    "\n",
    "qt = Qint(lst, amps, module, length)\n",
    "offset = [0, 2]\n",
    "\n",
    "print(qt)\n",
    "print(\"==\")\n",
    "qr = controlled_by(qc, qt, offset, partial(Bint.modular_add, N = qt.module))\n",
    "print(qr)"
   ]
  },
  {
   "cell_type": "code",
   "execution_count": 992,
   "id": "457ae34b",
   "metadata": {},
   "outputs": [
    {
     "name": "stdout",
     "output_type": "stream",
     "text": [
      "00010101\n",
      "00010\n"
     ]
    }
   ],
   "source": [
    "a = Cvalue(21, 8)\n",
    "print(a)\n",
    "b = a.pop([0,1,2])\n",
    "print(b.binary)\n"
   ]
  },
  {
   "cell_type": "code",
   "execution_count": 993,
   "id": "0dbcf41f",
   "metadata": {},
   "outputs": [
    {
     "name": "stdout",
     "output_type": "stream",
     "text": [
      "110\n",
      "-1\n"
     ]
    }
   ],
   "source": [
    "c = a[[1,2,4]]\n",
    "print(c)\n",
    "observables = [0,1,1]\n",
    "print(if_neg(c, observables))"
   ]
  },
  {
   "cell_type": "code",
   "execution_count": 994,
   "id": "a434de39",
   "metadata": {},
   "outputs": [
    {
     "name": "stdout",
     "output_type": "stream",
     "text": [
      "110\n",
      "110\n"
     ]
    }
   ],
   "source": [
    "b = BinaryInt(6, 3)\n",
    "print(b)\n",
    "print(b[[0,1,2]])"
   ]
  },
  {
   "cell_type": "code",
   "execution_count": 995,
   "id": "dcb63150",
   "metadata": {},
   "outputs": [
    {
     "name": "stdout",
     "output_type": "stream",
     "text": [
      "(0.7071067811865475+0j) → 0000\n",
      "(0.7071067811865475+0j) → 1000\n",
      "\n",
      "(0.3535533905932737+0j) → 000000\n",
      "(0.3535533905932737+0j) → 100000\n",
      "(0.3535533905932737+0j) → 101000\n",
      "(0.3535533905932737+0j) → 001000\n",
      "(0.3535533905932737+0j) → 110100\n",
      "(0.3535533905932737+0j) → 010100\n",
      "(0.3535533905932737+0j) → 011100\n",
      "(0.3535533905932737+0j) → 111100\n",
      "\n"
     ]
    }
   ],
   "source": [
    "length = 4\n",
    "values = [0, 8]\n",
    "module = 2**length\n",
    "amps = np.zeros(2**length, dtype=np.complex128)\n",
    "amps[values] = 1/np.sqrt(len(values))\n",
    "q = Qint(values, amps, module, length)\n",
    "m = 2\n",
    "offsets = np.arange(2**m)\n",
    "print(q)\n",
    "qr = oblivous_runways(q, m, [length-2, length-1], 2)\n",
    "print(qr)"
   ]
  },
  {
   "cell_type": "code",
   "execution_count": null,
   "id": "4390f97f",
   "metadata": {},
   "outputs": [
    {
     "name": "stdout",
     "output_type": "stream",
     "text": [
      "(1+0j)\n",
      "(0.9808607719692055+0j)\n",
      "(0.9956942897795654+0j)\n",
      "(0.9989756721468338+0j)\n"
     ]
    },
    {
     "name": "stderr",
     "output_type": "stream",
     "text": [
      "C:\\Users\\24835\\AppData\\Local\\Temp\\ipykernel_26620\\3177700492.py:48: ComplexWarning: Casting complex values to real discards the imaginary part\n",
      "  error[i] = 1- test_oblivious_runways(k, m, m+2)\n"
     ]
    },
    {
     "name": "stdout",
     "output_type": "stream",
     "text": [
      "(0.9997500156230391+0j)\n",
      "(0.9999382420602291+0j)\n",
      "(0.999984651335907+0j)\n"
     ]
    },
    {
     "data": {
      "text/plain": [
       "Text(0.5, 0, 'number of runway qubits')"
      ]
     },
     "execution_count": 1087,
     "metadata": {},
     "output_type": "execute_result"
    },
    {
     "data": {
      "image/png": "[encoded data removed]",
      "text/plain": [
       "<Figure size 640x480 with 1 Axes>"
      ]
     },
     "metadata": {},
     "output_type": "display_data"
    }
   ],
   "source": []
  },
  {
   "cell_type": "code",
   "execution_count": 997,
   "id": "7874e92c",
   "metadata": {},
   "outputs": [
    {
     "name": "stdout",
     "output_type": "stream",
     "text": [
      "(0.7071067811865475+0j) → 0000\n",
      "(0.7071067811865475+0j) → 0001\n",
      "\n",
      "(0.7071067811865475+0j) → 0101\n",
      "(0.7071067811865475+0j) → 0110\n",
      "\n"
     ]
    }
   ],
   "source": [
    "length = 4\n",
    "values = [0, 8]\n",
    "module = 2**length-2\n",
    "amps = np.zeros(2**length, dtype=np.complex128)\n",
    "amps[values] = 1/np.sqrt(len(values))\n",
    "q = Qint(values, amps, module, length)\n",
    "q.update_value(8, 1)\n",
    "print(q)\n",
    "a = q+5\n",
    "print(a)"
   ]
  },
  {
   "cell_type": "code",
   "execution_count": 998,
   "id": "c10e4fe6",
   "metadata": {},
   "outputs": [
    {
     "name": "stdout",
     "output_type": "stream",
     "text": [
      "[-1]\n"
     ]
    }
   ],
   "source": [
    "start = 0\n",
    "stop = 1\n",
    "step = 1\n",
    "print([-1 - i for i in range(start, stop, step)])"
   ]
  }
 ],
 "metadata": {
  "kernelspec": {
   "display_name": ".conda",
   "language": "python",
   "name": "python3"
  },
  "language_info": {
   "codemirror_mode": {
    "name": "ipython",
    "version": 3
   },
   "file_extension": ".py",
   "mimetype": "text/x-python",
   "name": "python",
   "nbconvert_exporter": "python",
   "pygments_lexer": "ipython3",
   "version": "3.11.13"
  }
 },
 "nbformat": 4,
 "nbformat_minor": 5
}
