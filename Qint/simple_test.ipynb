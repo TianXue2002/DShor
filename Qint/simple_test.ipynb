{
 "cells": [
  {
   "cell_type": "code",
   "execution_count": 9,
   "id": "60101802",
   "metadata": {},
   "outputs": [],
   "source": [
    "import math"
   ]
  },
  {
   "cell_type": "code",
   "execution_count": 10,
   "id": "0ed953d5",
   "metadata": {},
   "outputs": [],
   "source": [
    "def windowed_approximate_modular_exponentiation(\n",
    "        g: int,\n",
    "        Q_e: int,\n",
    "        N: int,\n",
    "        P: list[int],\n",
    "        f: int,\n",
    "        ne: int\n",
    ") -> int:\n",
    "    \"\"\"Computes an approximate modular exponentiation.\n",
    "\n",
    "    Args:\n",
    "        g: The base of the exponentiation.\n",
    "        Q_e: The exponent.\n",
    "        N: The modulus.\n",
    "        P: Small primes for the residue arithmetic.\n",
    "        f: Kept bits during approximate accumulation.\n",
    "\n",
    "    Returns:\n",
    "        An approximation of pow(g, Q_e, N).\n",
    "\n",
    "        The modular deviation of the approximation is\n",
    "        at most 3 * Q_e.bit_length() / 2**f .\n",
    "    \"\"\"\n",
    "    L = math.prod(P)\n",
    "    print(f\"L has {L.bit_length()} bits\")\n",
    "    ell = max(p.bit_length() for p in P)\n",
    "    m = Q_e.bit_length()\n",
    "    t = N.bit_length() - f\n",
    "    assert L == math.lcm(*P) and L >= N ** m and (L % N) < (N >> f)\n",
    "    we = m//ne\n",
    "    print(f\"bit length is {m}\")\n",
    "    Q_total = 1\n",
    "    Q_inter_lst = []\n",
    "    Q_ref_lst = []\n",
    "    for l in range(ne):\n",
    "        Q_inter = 0\n",
    "        for p in P:\n",
    "            Q_residue = 1\n",
    "            for k in range(we):\n",
    "                precomputed = pow(g, 1 << (k + l*we), N) % p\n",
    "\n",
    "                # controlled inplace modular multiplication:\n",
    "                if Q_e & (1 << k + l*we):\n",
    "                    Q_residue *= precomputed\n",
    "                    Q_residue %= p\n",
    "\n",
    "            u = (L // p) * pow(L // p, -1, p)\n",
    "            for k in range(ell):\n",
    "                precomputed = (((u << k) % L % N) >> t) % (N >> t)\n",
    "\n",
    "                # controlled inplace modular addition:\n",
    "                if Q_residue & (1 << k):\n",
    "                    Q_inter += precomputed\n",
    "                    Q_inter %= N >> t\n",
    "        if l == 0:\n",
    "            Q_ref = Q_e - ((Q_e >> we)<< we)\n",
    "        else:\n",
    "            Q_ref = (Q_e >> we)<<we\n",
    "        Q_ref = pow(g, Q_ref, N)\n",
    "        print(Q_ref - (Q_inter<<t))\n",
    "        error = (Q_ref - (Q_inter<<t))\n",
    "        deviation = min(error % N, -error % N)\n",
    "        print(f\"loop {l} has relative error {deviation/N}\")\n",
    "        Q_inter_lst.append(Q_inter<<t)\n",
    "        Q_ref_lst.append(Q_ref)\n",
    "        Q_total *= Q_inter\n",
    "        Q_total %= N >> t\n",
    "    return Q_total << t, Q_inter_lst, Q_ref_lst\n"
   ]
  },
  {
   "cell_type": "code",
   "execution_count": 11,
   "id": "7d97e4d2",
   "metadata": {},
   "outputs": [],
   "source": [
    "def approximate_modular_exponentiation(\n",
    "        g: int,\n",
    "        Q_e: int,\n",
    "        N: int,\n",
    "        P: list[int],\n",
    "        f: int,\n",
    ") -> int:\n",
    "    \"\"\"Computes an approximate modular exponentiation.\n",
    "\n",
    "    Args:\n",
    "        g: The base of the exponentiation.\n",
    "        Q_e: The exponent.\n",
    "        N: The modulus.\n",
    "        P: Small primes for the residue arithmetic.\n",
    "        f: Kept bits during approximate accumulation.\n",
    "\n",
    "    Returns:\n",
    "        An approximation of pow(g, Q_e, N).\n",
    "\n",
    "        The modular deviation of the approximation is\n",
    "        at most 3 * Q_e.bit_length() / 2**f .\n",
    "    \"\"\"\n",
    "    L = math.prod(P)\n",
    "    print(f\"L has {L.bit_length()} bits\")\n",
    "    ell = max(p.bit_length() for p in P)\n",
    "    m = Q_e.bit_length()\n",
    "    t = N.bit_length() - f\n",
    "    assert L == math.lcm(*P) and L >= N ** m and (L % N) < (N >> f)\n",
    "\n",
    "    Q_total = 0\n",
    "    for p in P:\n",
    "        Q_residue = 1\n",
    "        for k in range(Q_e.bit_length()):\n",
    "            precomputed = pow(g, 1 << k, N) % p\n",
    "\n",
    "            # controlled inplace modular multiplication:\n",
    "            if Q_e & (1 << k):\n",
    "                Q_residue *= precomputed\n",
    "                Q_residue %= p\n",
    "\n",
    "        u = (L // p) * pow(L // p, -1, p)\n",
    "\n",
    "        Q_inter = 0\n",
    "        for k in range(ell):\n",
    "            precomputed = (((u << k) % L % N) >> t) % (N >> t)\n",
    "            # controlled inplace modular addition:\n",
    "            if Q_residue & (1 << k):\n",
    "                Q_inter += precomputed\n",
    "                Q_inter %= N >> t\n",
    "                # Q_total += precomputed\n",
    "                # Q_total %= N >> t\n",
    "        Q_total += Q_inter\n",
    "        Q_ref = (pow(g, Q_e, p) * u) % L % N\n",
    "        print((pow(g, Q_e, p) - Q_residue)/Q_residue, \"test\")\n",
    "        Q_inter = Q_inter << t\n",
    "        error = (Q_ref - (Q_inter))\n",
    "        deviation = min(error % N, -error % N)\n",
    "        print(f\"loop {1} has relative error {deviation/N}\")\n",
    "    return Q_total << t"
   ]
  },
  {
   "cell_type": "code",
   "execution_count": 12,
   "id": "3de9e94b",
   "metadata": {},
   "outputs": [],
   "source": [
    "\n",
    "\n",
    "def test_approximate_modular_exponentiation():\n",
    "    import random\n",
    "    import sympy\n",
    "\n",
    "    # RSA100 challenge number\n",
    "    N = int(\n",
    "        \"15226050279225333605356183781326374297180681149613\"\n",
    "        \"80688657908494580122963258952897654000350692006139\"\n",
    "    )\n",
    "    g = random.randrange(2, N)\n",
    "    Q_e = 1\n",
    "    while (Q_e.bit_length()%2 != 0):\n",
    "        Q_e = random.randrange(2**100)  # small exponent for quicker test\n",
    "    print(Q_e.bit_length(), \"hi\")\n",
    "    P = [\n",
    "        *sympy.primerange(239382, 2**18),\n",
    "        131101,\n",
    "        131111,\n",
    "        131113,\n",
    "        131129,\n",
    "        131143,\n",
    "        131149,\n",
    "        131947,\n",
    "        182341,\n",
    "        239333,\n",
    "        239347,\n",
    "    ]\n",
    "    print(f\"there are {len(P)} primes\")\n",
    "    f = 24\n",
    "    ne = 2\n",
    "    result, Q_inter_lst, Q_ref_lst = windowed_approximate_modular_exponentiation(g, Q_e, N, P, f, ne)\n",
    "    # print(f\"there are {len(P)} primes\")\n",
    "    # result = approximate_modular_exponentiation(g, Q_e, N, P, f)\n",
    "    error = result - pow(g, Q_e, N)\n",
    "    deviation = min(error % N, -error % N) / N\n",
    "    ell = max(p.bit_length() for p in P)\n",
    "    print(deviation)\n",
    "    # assert deviation <= 3 * ne * len(P) * ell / 2**f\n",
    "    return Q_inter_lst, Q_ref_lst,Q_e, g"
   ]
  },
  {
   "cell_type": "code",
   "execution_count": 13,
   "id": "ecc52600",
   "metadata": {},
   "outputs": [
    {
     "name": "stdout",
     "output_type": "stream",
     "text": [
      "100 hi\n",
      "there are 1841 primes\n",
      "L has 33011 bits\n",
      "bit length is 100\n",
      "-268798923431390192759053929913641667364162336602478543691904807991984640949471241367899338823566\n",
      "loop 0 has relative error 0.00017653883870207872\n",
      "-274322875630384817868136695889517148871761437660305653665878772346962784740412588626457108841940\n",
      "loop 1 has relative error 0.0001801668000562663\n",
      "0.10402339177372584\n"
     ]
    }
   ],
   "source": [
    "Q_inter_lst, Q_ref_lst,Q_e, g = test_approximate_modular_exponentiation()"
   ]
  },
  {
   "cell_type": "code",
   "execution_count": 14,
   "id": "959a3eee",
   "metadata": {},
   "outputs": [
    {
     "name": "stdout",
     "output_type": "stream",
     "text": [
      "[372992825038614360924945030024136292006428058397214651354400919376292359202348810441283882308337664, 1273192854074318725591891926078233604327570684345273884379761948966576333132393770399743476626358272]\n",
      "[372724026115182970732185976094222650339063896060612172810709014568300374561399339199915982969514098, 1272918531198688340774023789382344087178698922907613578726096070194229370347653357811117019517516332]\n"
     ]
    }
   ],
   "source": [
    "N = int(\n",
    "        \"15226050279225333605356183781326374297180681149613\"\n",
    "        \"80688657908494580122963258952897654000350692006139\"\n",
    "    )\n",
    "print(Q_inter_lst)\n",
    "print(Q_ref_lst)"
   ]
  },
  {
   "cell_type": "code",
   "execution_count": 15,
   "id": "13b93be9",
   "metadata": {},
   "outputs": [
    {
     "name": "stdout",
     "output_type": "stream",
     "text": [
      "2.9192048299132614e+95\n"
     ]
    }
   ],
   "source": [
    "print((Q_inter_lst[0]*Q_inter_lst[1] -Q_ref_lst[0]*Q_ref_lst[1])/N)"
   ]
  },
  {
   "cell_type": "code",
   "execution_count": 16,
   "id": "ac2a7819",
   "metadata": {},
   "outputs": [
    {
     "name": "stdout",
     "output_type": "stream",
     "text": [
      "0\n",
      "588156653704867734532369500377418533534142523234631447175943462571380343590336953085394866271397561\n",
      "-19529156813001142660180776559716230085016030968857857051690494206545106656780838784849080937002112\n",
      "-2.247195592601722e+95\n"
     ]
    }
   ],
   "source": [
    "print((Q_ref_lst[0]*Q_ref_lst[1])%N - pow(g, Q_e, N))\n",
    "print((Q_inter_lst[0]*Q_inter_lst[1])%N - pow(g, Q_e, N))\n",
    "print(pow(g, Q_e, N)-(Q_inter_lst[0]*Q_ref_lst[1])%N\n",
    "      )\n",
    "\n",
    "print(((Q_ref_lst[0] - Q_inter_lst[0]) * Q_ref_lst[1])/N)"
   ]
  }
 ],
 "metadata": {
  "kernelspec": {
   "display_name": ".conda",
   "language": "python",
   "name": "python3"
  },
  "language_info": {
   "codemirror_mode": {
    "name": "ipython",
    "version": 3
   },
   "file_extension": ".py",
   "mimetype": "text/x-python",
   "name": "python",
   "nbconvert_exporter": "python",
   "pygments_lexer": "ipython3",
   "version": "3.11.13"
  }
 },
 "nbformat": 4,
 "nbformat_minor": 5
}
