{
 "cells": [
  {
   "cell_type": "code",
   "execution_count": 226,
   "id": "1e5df810",
   "metadata": {},
   "outputs": [
    {
     "name": "stdout",
     "output_type": "stream",
     "text": [
      "The autoreload extension is already loaded. To reload it, use:\n",
      "  %reload_ext autoreload\n"
     ]
    }
   ],
   "source": [
    "%load_ext autoreload\n",
    "%autoreload 2\n",
    "\n",
    "import sys\n",
    "import os\n",
    "\n",
    "sys.path.append(os.path.abspath(\"../src\"))  # path to the folder containing helper.py\n",
    "\n",
    "from QPU import *\n",
    "from Qint import *\n",
    "from Shor import *\n"
   ]
  },
  {
   "cell_type": "code",
   "execution_count": 227,
   "id": "5357cd99",
   "metadata": {},
   "outputs": [
    {
     "name": "stdout",
     "output_type": "stream",
     "text": [
      "5\n",
      "0\n",
      "{0: 0, 1: 0, 2: 0, 3: 0, 4: 0, 5: 0, 6: 0, 7: 0, 8: 0, 9: 0, 10: 0, 11: 0, 12: 0, 13: 0, 14: 0, 15: 0, 16: 0, 17: 0, 18: 0, 19: 0, 20: 0, 21: 0, 22: 0, 23: 0, 24: 0, 25: 0, 26: 0, 27: 0, 28: 0, 29: 0, 30: 0, 31: 0}\n"
     ]
    }
   ],
   "source": [
    "qpu = QPU()\n",
    "qint1 = qpu.allocate_qubits(6)\n",
    "qint2 = qpu.allocate_qubits(5, type=\"address\")\n",
    "qint1.overflow = False\n",
    "for i in range(2**len(qint2)):\n",
    "    qpu.data[i] = 0\n",
    "print(qint1.start)\n",
    "print(qint2.start)\n",
    "print(qpu.data)"
   ]
  },
  {
   "cell_type": "code",
   "execution_count": 228,
   "id": "0c71d6b0",
   "metadata": {},
   "outputs": [
    {
     "name": "stdout",
     "output_type": "stream",
     "text": [
      "6\n",
      "5\n",
      "3\n"
     ]
    }
   ],
   "source": [
    "print(len(qint1))          # should print 5\n",
    "# print(qint1[:3])           # should return a Qint of length 3\n",
    "print(qint1[:3].start)     # check start index\n",
    "print(qint1[:3].length)    # check length\n"
   ]
  },
  {
   "cell_type": "code",
   "execution_count": 229,
   "id": "df85f058",
   "metadata": {},
   "outputs": [
    {
     "name": "stdout",
     "output_type": "stream",
     "text": [
      "0\n",
      "{0: 0, 1: 0, 2: 0, 3: 0, 4: 0, 5: 0, 6: 0, 7: 0, 8: 0, 9: 0, 10: 0, 11: 0, 12: 0, 13: 0, 14: 0, 15: 0, 16: 0, 17: 0, 18: 0, 19: 0, 20: 0, 21: 0, 22: 0, 23: 0, 24: 0, 25: 0, 26: 0, 27: 0, 28: 0, 29: 0, 30: 0, 31: 0}\n"
     ]
    }
   ],
   "source": [
    "q_add = qint2\n",
    "print(q_add.start)\n",
    "print(q_add.data)\n",
    "table = {}\n",
    "import random\n",
    "for i in range(2**len(q_add)):\n",
    "    table[i] = random.getrandbits(len(q_add)) \n",
    "lookup = LookupTable(q_add, table)"
   ]
  },
  {
   "cell_type": "code",
   "execution_count": 230,
   "id": "7da46a62",
   "metadata": {},
   "outputs": [
    {
     "name": "stdout",
     "output_type": "stream",
     "text": [
      "32\n",
      "|000010|00000 has amp 0\n",
      "|010101|00001 has amp 0\n",
      "|010000|00010 has amp 0\n",
      "|000110|00011 has amp 0\n",
      "|011100|00100 has amp 0\n",
      "|001100|00101 has amp 0\n",
      "|001111|00110 has amp 0\n",
      "|000111|00111 has amp 0\n",
      "|001010|01000 has amp 0\n",
      "|010110|01001 has amp 0\n",
      "|010000|01010 has amp 0\n",
      "|010111|01011 has amp 0\n",
      "|010010|01100 has amp 0\n",
      "|010000|01101 has amp 0\n",
      "|000010|01110 has amp 0\n",
      "|000100|01111 has amp 0\n",
      "|011010|10000 has amp 0\n",
      "|011111|10001 has amp 0\n",
      "|010101|10010 has amp 0\n",
      "|011001|10011 has amp 0\n",
      "|010110|10100 has amp 0\n",
      "|010011|10101 has amp 0\n",
      "|001101|10110 has amp 0\n",
      "|010010|10111 has amp 0\n",
      "|010011|11000 has amp 0\n",
      "|010110|11001 has amp 0\n",
      "|011010|11010 has amp 0\n",
      "|011100|11011 has amp 0\n",
      "|001010|11100 has amp 0\n",
      "|001000|11101 has amp 0\n",
      "|000010|11110 has amp 0\n",
      "|011011|11111 has amp 0\n"
     ]
    }
   ],
   "source": [
    "print(len(table.keys()))\n",
    "qint1 += lookup\n",
    "print(qint1)\n",
    "record = qint1._parent.data.copy()"
   ]
  },
  {
   "cell_type": "code",
   "execution_count": null,
   "id": "b2f415b1",
   "metadata": {},
   "outputs": [
    {
     "name": "stdout",
     "output_type": "stream",
     "text": [
      "0b10000000\n",
      "5\n",
      "|0010|00000 has amp 0\n",
      "|0001|00001 has amp 0\n",
      "|0000|00010 has amp 0\n",
      "|0010|00011 has amp 0\n",
      "|0000|00100 has amp 0\n",
      "|0000|00101 has amp 0\n",
      "|0011|00110 has amp 0\n",
      "|0011|00111 has amp 0\n",
      "|0010|01000 has amp 0\n",
      "|0010|01001 has amp 0\n",
      "|0000|01010 has amp 0\n",
      "|0011|01011 has amp 0\n",
      "|0010|01100 has amp 0\n",
      "|0000|01101 has amp 0\n",
      "|0010|01110 has amp 0\n",
      "|0000|01111 has amp 0\n",
      "|0010|10000 has amp 0\n",
      "|0011|10001 has amp 0\n",
      "|0001|10010 has amp 0\n",
      "|0001|10011 has amp 0\n",
      "|0010|10100 has amp 0\n",
      "|0011|10101 has amp 0\n",
      "|0001|10110 has amp 0\n",
      "|0010|10111 has amp 0\n",
      "|0011|11000 has amp 0\n",
      "|0010|11001 has amp 0\n",
      "|0010|11010 has amp 0\n",
      "|0000|11011 has amp 0\n",
      "|0010|11100 has amp 0\n",
      "|0000|11101 has amp 0\n",
      "|0010|11110 has amp 0\n",
      "|0011|11111 has amp 0\n"
     ]
    }
   ],
   "source": [
    "p_len = 3\n",
    "module = random.getrandbits(p_len)\n",
    "while module < 2**(p_len-1):\n",
    "    module = random.getrandbits(p_len)\n",
    "print(bin(module<<5))\n",
    "print(qint1.start)\n",
    "original_data = qpu.data.copy()\n",
    "reduced_size = len(qint1) - module.bit_length() - 1\n",
    "loop2(qint1, qint2, module, p_len)\n",
    "print(qint1)\n"
   ]
  },
  {
   "cell_type": "code",
   "execution_count": 232,
   "id": "1819f4cf",
   "metadata": {},
   "outputs": [
    {
     "name": "stdout",
     "output_type": "stream",
     "text": [
      "{0: 0, 1: 0, 2: 0, 3: 0, 4: 0, 5: 0, 6: 0, 7: 0, 8: 0, 9: 0, 10: 0, 11: 0, 12: 0, 13: 0, 14: 0, 15: 0, 16: 0, 17: 0, 18: 0, 19: 0, 20: 0, 21: 0, 22: 0, 23: 0, 24: 0, 25: 0, 26: 0, 27: 0, 28: 0, 29: 0, 30: 0, 31: 0}\n"
     ]
    }
   ],
   "source": [
    "print(qpu.phase_up)"
   ]
  },
  {
   "cell_type": "code",
   "execution_count": 233,
   "id": "7abaad37",
   "metadata": {},
   "outputs": [],
   "source": [
    "from toolkit import extract_bits\n",
    "def test_loop2(Q_target, orginal_data, module, reduced_size):\n",
    "    qpu = Q_target._parent\n",
    "    for i in range(len(qpu.data.keys())):\n",
    "        value = list(qpu.data.keys())[i]\n",
    "        target_value = extract_bits(value, Q_target.start, Q_target.start+len(Q_target)-1)\n",
    "        original_value = list(orginal_data.keys())[i]\n",
    "        original_value = extract_bits(original_value, Q_target.start, Q_target.start+len(Q_target)-1 + reduced_size)\n",
    "        assert original_value % module == target_value\n",
    "    print(\"test passed\")"
   ]
  },
  {
   "cell_type": "code",
   "execution_count": 234,
   "id": "81ee615f",
   "metadata": {},
   "outputs": [
    {
     "name": "stdout",
     "output_type": "stream",
     "text": [
      "test passed\n",
      "None\n"
     ]
    }
   ],
   "source": [
    "\n",
    "print(test_loop2(qint1, original_data, module, reduced_size))"
   ]
  },
  {
   "cell_type": "code",
   "execution_count": 235,
   "id": "6468a47a",
   "metadata": {},
   "outputs": [
    {
     "name": "stdout",
     "output_type": "stream",
     "text": [
      "0b1100000\n",
      "0001100000\n",
      "1\n"
     ]
    }
   ],
   "source": [
    "print(bin(96))\n",
    "a =  s = f\"{96:0{10}b}\"\n",
    "print(a)\n",
    "print(a[4])"
   ]
  },
  {
   "cell_type": "code",
   "execution_count": 236,
   "id": "893bbb20",
   "metadata": {},
   "outputs": [
    {
     "name": "stdout",
     "output_type": "stream",
     "text": [
      "0b0\n",
      "0\n"
     ]
    },
    {
     "data": {
      "text/plain": [
       "189"
      ]
     },
     "execution_count": 236,
     "metadata": {},
     "output_type": "execute_result"
    }
   ],
   "source": [
    "n = 0b110111101011  # 0xDEB = 3563\n",
    "\n",
    "# Extract bits 3 to 10\n",
    "result = extract_bits(n, 2, 2)\n",
    "print(bin(result))  # 0b11011110\n",
    "print(result)       # 222\n",
    "0b10111101"
   ]
  },
  {
   "cell_type": "code",
   "execution_count": 237,
   "id": "08a21971",
   "metadata": {},
   "outputs": [
    {
     "name": "stdout",
     "output_type": "stream",
     "text": [
      "1\n"
     ]
    }
   ],
   "source": [
    "test = True\n",
    "a = 10\n",
    "print(0+test)"
   ]
  },
  {
   "cell_type": "code",
   "execution_count": 238,
   "id": "e858f120",
   "metadata": {},
   "outputs": [
    {
     "name": "stdout",
     "output_type": "stream",
     "text": [
      "4\n"
     ]
    }
   ],
   "source": [
    "print(module)"
   ]
  },
  {
   "cell_type": "code",
   "execution_count": 239,
   "id": "78a3be62",
   "metadata": {},
   "outputs": [
    {
     "name": "stdout",
     "output_type": "stream",
     "text": [
      "0b10000000 offset\n"
     ]
    }
   ],
   "source": [
    "print(bin(module<<5),\"offset\")\n",
    "qint1 -= (module<<5)"
   ]
  },
  {
   "cell_type": "code",
   "execution_count": 240,
   "id": "639ce26a",
   "metadata": {},
   "outputs": [
    {
     "name": "stdout",
     "output_type": "stream",
     "text": [
      "0\n"
     ]
    }
   ],
   "source": [
    "a = 1<<3\n",
    "b = 0b0110\n",
    "c = a & b\n",
    "print(c)\n",
    "bit_sum = c.bit_count()   # Python 3.10+\n"
   ]
  },
  {
   "cell_type": "code",
   "execution_count": 241,
   "id": "ba49252a",
   "metadata": {},
   "outputs": [
    {
     "name": "stdout",
     "output_type": "stream",
     "text": [
      "0\n"
     ]
    }
   ],
   "source": [
    "print(10&0)"
   ]
  }
 ],
 "metadata": {
  "kernelspec": {
   "display_name": ".conda",
   "language": "python",
   "name": "python3"
  },
  "language_info": {
   "codemirror_mode": {
    "name": "ipython",
    "version": 3
   },
   "file_extension": ".py",
   "mimetype": "text/x-python",
   "name": "python",
   "nbconvert_exporter": "python",
   "pygments_lexer": "ipython3",
   "version": "3.11.13"
  }
 },
 "nbformat": 4,
 "nbformat_minor": 5
}
