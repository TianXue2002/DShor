{
 "cells": [
  {
   "cell_type": "code",
   "execution_count": 42,
   "id": "1e5df810",
   "metadata": {},
   "outputs": [
    {
     "name": "stdout",
     "output_type": "stream",
     "text": [
      "The autoreload extension is already loaded. To reload it, use:\n",
      "  %reload_ext autoreload\n"
     ]
    }
   ],
   "source": [
    "%load_ext autoreload\n",
    "%autoreload 2\n",
    "\n",
    "import sys\n",
    "import os\n",
    "\n",
    "sys.path.append(os.path.abspath(\"../src\"))  # path to the folder containing helper.py\n",
    "\n",
    "from QPU import *\n",
    "from Qint import *\n"
   ]
  },
  {
   "cell_type": "code",
   "execution_count": 43,
   "id": "5357cd99",
   "metadata": {},
   "outputs": [
    {
     "name": "stdout",
     "output_type": "stream",
     "text": [
      "5\n",
      "0\n",
      "{0: 0, 1: 0, 2: 0, 3: 0, 4: 0, 5: 0, 6: 0, 7: 0, 8: 0, 9: 0, 10: 0, 11: 0, 12: 0, 13: 0, 14: 0, 15: 0, 16: 0, 17: 0, 18: 0, 19: 0, 20: 0, 21: 0, 22: 0, 23: 0, 24: 0, 25: 0, 26: 0, 27: 0, 28: 0, 29: 0, 30: 0, 31: 0}\n"
     ]
    }
   ],
   "source": [
    "qpu = QPU()\n",
    "qint0 = qpu.allocate_qubits(3)\n",
    "qint1 = qpu.allocate_qubits(10)\n",
    "qint2 = qpu.allocate_qubits(5)\n",
    "for i in range(2**5):\n",
    "    qpu.data[i] = 0\n",
    "print(qint1.start)\n",
    "print(qint2.start)\n",
    "print(qpu.data)"
   ]
  },
  {
   "cell_type": "code",
   "execution_count": 44,
   "id": "0c71d6b0",
   "metadata": {},
   "outputs": [
    {
     "name": "stdout",
     "output_type": "stream",
     "text": [
      "{0: 0, 1: 0, 2: 0, 3: 0, 4: 0, 5: 0, 6: 0, 7: 0, 8: 0, 9: 0, 10: 0, 11: 0, 12: 0, 13: 0, 14: 0, 15: 0, 16: 0, 17: 0, 18: 0, 19: 0, 20: 0, 21: 0, 22: 0, 23: 0, 24: 0, 25: 0, 26: 0, 27: 0, 28: 0, 29: 0, 30: 0, 31: 0}\n",
      "0\n"
     ]
    }
   ],
   "source": [
    "# qint2 += 1\n",
    "# qint2 += 5\n",
    "# qint2 += 2048\n",
    "print(qpu.data)\n",
    "print(qint2.start)\n"
   ]
  },
  {
   "cell_type": "code",
   "execution_count": 45,
   "id": "df85f058",
   "metadata": {},
   "outputs": [
    {
     "name": "stdout",
     "output_type": "stream",
     "text": [
      "0\n",
      "{0: 0, 1: 0, 2: 0, 3: 0, 4: 0, 5: 0, 6: 0, 7: 0, 8: 0, 9: 0, 10: 0, 11: 0, 12: 0, 13: 0, 14: 0, 15: 0, 16: 0, 17: 0, 18: 0, 19: 0, 20: 0, 21: 0, 22: 0, 23: 0, 24: 0, 25: 0, 26: 0, 27: 0, 28: 0, 29: 0, 30: 0, 31: 0}\n",
      "00000 add\n",
      "0001000010\n",
      "00001 add\n",
      "0000011011\n",
      "00010 add\n",
      "0001111100\n",
      "00011 add\n",
      "0001100111\n",
      "00100 add\n",
      "0000101110\n",
      "00101 add\n",
      "0001100111\n",
      "00110 add\n",
      "0000001010\n",
      "00111 add\n",
      "0000010110\n",
      "01000 add\n",
      "0001111001\n",
      "01001 add\n",
      "0000011000\n",
      "01010 add\n",
      "0001000000\n",
      "01011 add\n",
      "0001100010\n",
      "01100 add\n",
      "0001010111\n",
      "01101 add\n",
      "0000010011\n",
      "01110 add\n",
      "0001010001\n",
      "01111 add\n",
      "0000001101\n",
      "10000 add\n",
      "0001001000\n",
      "10001 add\n",
      "0000011101\n",
      "10010 add\n",
      "0001010100\n",
      "10011 add\n",
      "0001110100\n",
      "10100 add\n",
      "0001110001\n",
      "10101 add\n",
      "0001011001\n",
      "10110 add\n",
      "0000010010\n",
      "10111 add\n",
      "0000100101\n",
      "11000 add\n",
      "0001110000\n",
      "11001 add\n",
      "0001011101\n",
      "11010 add\n",
      "0001000000\n",
      "11011 add\n",
      "0001110010\n",
      "11100 add\n",
      "0001100010\n",
      "11101 add\n",
      "0000010101\n",
      "11110 add\n",
      "0000001101\n",
      "11111 add\n",
      "0000010001\n"
     ]
    }
   ],
   "source": [
    "q_add = qint2\n",
    "print(q_add.start)\n",
    "print(q_add.data)\n",
    "table = {}\n",
    "import random\n",
    "for i in range(2**5):\n",
    "    table[i] = random.getrandbits(7) \n",
    "lookup = LookupTable(q_add, table)\n",
    "for i in range(2**5):\n",
    "    print(f\"{i:0{5}b}\",\"add\")\n",
    "    print(f\"{table[i]:0{10}b}\")"
   ]
  },
  {
   "cell_type": "code",
   "execution_count": 46,
   "id": "7abaad37",
   "metadata": {},
   "outputs": [
    {
     "name": "stdout",
     "output_type": "stream",
     "text": [
      "000|1110111110|00000 has amp 0\n",
      "000|1111100101|00001 has amp 0\n",
      "000|1110000100|00010 has amp 0\n",
      "000|1110011001|00011 has amp 0\n",
      "000|1111010010|00100 has amp 0\n",
      "000|1110011001|00101 has amp 0\n",
      "000|1111110110|00110 has amp 0\n",
      "000|1111101010|00111 has amp 0\n",
      "000|1110000111|01000 has amp 0\n",
      "000|1111101000|01001 has amp 0\n",
      "000|1111000000|01010 has amp 0\n",
      "000|1110011110|01011 has amp 0\n",
      "000|1110101001|01100 has amp 0\n",
      "000|1111101101|01101 has amp 0\n",
      "000|1110101111|01110 has amp 0\n",
      "000|1111110011|01111 has amp 0\n",
      "000|1110111000|10000 has amp 0\n",
      "000|1111100011|10001 has amp 0\n",
      "000|1110101100|10010 has amp 0\n",
      "000|1110001100|10011 has amp 0\n",
      "000|1110001111|10100 has amp 0\n",
      "000|1110100111|10101 has amp 0\n",
      "000|1111101110|10110 has amp 0\n",
      "000|1111011011|10111 has amp 0\n",
      "000|1110010000|11000 has amp 0\n",
      "000|1110100011|11001 has amp 0\n",
      "000|1111000000|11010 has amp 0\n",
      "000|1110001110|11011 has amp 0\n",
      "000|1110011110|11100 has amp 0\n",
      "000|1111101011|11101 has amp 0\n",
      "000|1111110011|11110 has amp 0\n",
      "000|1111101111|11111 has amp 0\n"
     ]
    }
   ],
   "source": [
    "qint1 -= lookup\n",
    "print(qint1)"
   ]
  },
  {
   "cell_type": "code",
   "execution_count": 47,
   "id": "13c974b7",
   "metadata": {},
   "outputs": [
    {
     "name": "stdout",
     "output_type": "stream",
     "text": [
      "000|0000000000|00000 has amp 0\n",
      "000|0000000000|00001 has amp 0\n",
      "000|0000000000|00010 has amp 0\n",
      "000|0000000000|00011 has amp 0\n",
      "000|0000000000|00100 has amp 0\n",
      "000|0000000000|00101 has amp 0\n",
      "000|0000000000|00110 has amp 0\n",
      "000|0000000000|00111 has amp 0\n",
      "000|0000000000|01000 has amp 0\n",
      "000|0000000000|01001 has amp 0\n",
      "000|0000000000|01010 has amp 0\n",
      "000|0000000000|01011 has amp 0\n",
      "000|0000000000|01100 has amp 0\n",
      "000|0000000000|01101 has amp 0\n",
      "000|0000000000|01110 has amp 0\n",
      "000|0000000000|01111 has amp 0\n",
      "000|0000000000|10000 has amp 0\n",
      "000|0000000000|10001 has amp 0\n",
      "000|0000000000|10010 has amp 0\n",
      "000|0000000000|10011 has amp 0\n",
      "000|0000000000|10100 has amp 0\n",
      "000|0000000000|10101 has amp 0\n",
      "000|0000000000|10110 has amp 0\n",
      "000|0000000000|10111 has amp 0\n",
      "000|0000000000|11000 has amp 0\n",
      "000|0000000000|11001 has amp 0\n",
      "000|0000000000|11010 has amp 0\n",
      "000|0000000000|11011 has amp 0\n",
      "000|0000000000|11100 has amp 0\n",
      "000|0000000000|11101 has amp 0\n",
      "000|0000000000|11110 has amp 0\n",
      "000|0000000000|11111 has amp 0\n"
     ]
    }
   ],
   "source": [
    "qint1 -= lookup\n",
    "print(qint1)"
   ]
  },
  {
   "cell_type": "code",
   "execution_count": 48,
   "id": "6468a47a",
   "metadata": {},
   "outputs": [
    {
     "name": "stdout",
     "output_type": "stream",
     "text": [
      "0b1100000\n",
      "0001100000\n",
      "1\n"
     ]
    }
   ],
   "source": [
    "print(bin(96))\n",
    "a =  s = f\"{96:0{10}b}\"\n",
    "print(a)\n",
    "print(a[4])"
   ]
  },
  {
   "cell_type": "code",
   "execution_count": 49,
   "id": "893bbb20",
   "metadata": {},
   "outputs": [
    {
     "name": "stdout",
     "output_type": "stream",
     "text": [
      "0b0\n",
      "0\n"
     ]
    },
    {
     "data": {
      "text/plain": [
       "189"
      ]
     },
     "execution_count": 49,
     "metadata": {},
     "output_type": "execute_result"
    }
   ],
   "source": [
    "n = 0b110111101011  # 0xDEB = 3563\n",
    "\n",
    "# Extract bits 3 to 10\n",
    "result = extract_bits(n, 2, 2)\n",
    "print(bin(result))  # 0b11011110\n",
    "print(result)       # 222\n",
    "0b10111101"
   ]
  }
 ],
 "metadata": {
  "kernelspec": {
   "display_name": ".conda",
   "language": "python",
   "name": "python3"
  },
  "language_info": {
   "codemirror_mode": {
    "name": "ipython",
    "version": 3
   },
   "file_extension": ".py",
   "mimetype": "text/x-python",
   "name": "python",
   "nbconvert_exporter": "python",
   "pygments_lexer": "ipython3",
   "version": "3.11.13"
  }
 },
 "nbformat": 4,
 "nbformat_minor": 5
}
